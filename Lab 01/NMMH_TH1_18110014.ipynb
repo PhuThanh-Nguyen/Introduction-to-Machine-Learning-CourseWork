{
 "cells": [
  {
   "cell_type": "markdown",
   "metadata": {},
   "source": [
    "# Bài tập thực hành Nhập môn máy học\n",
    "# Họ tên: Nguyễn Phú Thành - MSSV: 18110014"
   ]
  },
  {
   "cell_type": "code",
   "execution_count": 1,
   "metadata": {},
   "outputs": [],
   "source": [
    "from sklearn.datasets import load_diabetes\n",
    "import numpy as np"
   ]
  },
  {
   "cell_type": "code",
   "execution_count": 2,
   "metadata": {},
   "outputs": [],
   "source": [
    "diabetes_X, diabetes_y = load_diabetes(return_X_y = True)\n",
    "X_train, y_train = diabetes_X[:-2], diabetes_y[:-2].reshape(1, -1).T\n",
    "X_test, y_test = diabetes_X[-2:], diabetes_y[-2:].reshape(1, -1).T"
   ]
  },
  {
   "cell_type": "code",
   "execution_count": 3,
   "metadata": {},
   "outputs": [],
   "source": [
    "X_train = np.hstack(\n",
    "    (\n",
    "        np.ones((X_train.shape[0], 1)),\n",
    "        X_train\n",
    "    )\n",
    ")"
   ]
  },
  {
   "cell_type": "code",
   "execution_count": 4,
   "metadata": {},
   "outputs": [],
   "source": [
    "X_test = np.hstack(\n",
    "    (\n",
    "        np.ones((X_test.shape[0], 1)),\n",
    "        X_test\n",
    "    )\n",
    ")"
   ]
  },
  {
   "cell_type": "code",
   "execution_count": 5,
   "metadata": {},
   "outputs": [],
   "source": [
    "class SimpleLinearRegression:\n",
    "    @classmethod\n",
    "    def MSE_loss(cls, theta, X, y):\n",
    "        n = y.shape[0]\n",
    "        loss = 1/(2* n)*(X.dot(theta) - y).T.dot(X.dot(theta) - y)\n",
    "        return loss.item()\n",
    "    \n",
    "    def __init__(self):\n",
    "        self.theta = None\n",
    "    \n",
    "    def fit(self, X, y):\n",
    "        self.theta = np.linalg.pinv(X.T.dot(X)).dot(X.T).dot(y)\n",
    "        n = y.shape[0]\n",
    "        loss = 1/(2 * n) * (X.dot(self.theta) - y).T.dot(X.dot(self.theta) - y)\n",
    "        return loss.item()\n",
    "    \n",
    "    def predict(self, X):\n",
    "        if self.theta is None:\n",
    "            raise ValueError('SimpleLinearRegression instance is not fit to the data yet')\n",
    "        return X.dot(self.theta)"
   ]
  },
  {
   "cell_type": "markdown",
   "metadata": {},
   "source": [
    "## 1. Hãy dùng bộ dữ liệu dibetes để thiết lập mô hình Linear Regresion"
   ]
  },
  {
   "cell_type": "code",
   "execution_count": 6,
   "metadata": {},
   "outputs": [],
   "source": [
    "mdl = SimpleLinearRegression()"
   ]
  },
  {
   "cell_type": "code",
   "execution_count": 7,
   "metadata": {
    "scrolled": true
   },
   "outputs": [
    {
     "name": "stdout",
     "output_type": "stream",
     "text": [
      "1436.2528004632552\n"
     ]
    }
   ],
   "source": [
    "mse_loss = mdl.fit(X_train, y_train)\n",
    "print(mse_loss)"
   ]
  },
  {
   "cell_type": "code",
   "execution_count": 8,
   "metadata": {},
   "outputs": [
    {
     "data": {
      "text/plain": [
       "array([[ 152.10620412],\n",
       "       [  -9.38654069],\n",
       "       [-239.50541995],\n",
       "       [ 519.71747928],\n",
       "       [ 324.62241148],\n",
       "       [-788.75647584],\n",
       "       [ 474.10341796],\n",
       "       [  98.46801188],\n",
       "       [ 175.8004285 ],\n",
       "       [ 749.38200399],\n",
       "       [  67.88567794]])"
      ]
     },
     "execution_count": 8,
     "metadata": {},
     "output_type": "execute_result"
    }
   ],
   "source": [
    "mdl.theta"
   ]
  },
  {
   "cell_type": "markdown",
   "metadata": {},
   "source": [
    "## 2. Hãy tìm target values của diabetes_X_test rồi so sánh với target values trong diabetes_y_test"
   ]
  },
  {
   "cell_type": "code",
   "execution_count": 9,
   "metadata": {},
   "outputs": [],
   "source": [
    "y_predict = mdl.predict(X_test)"
   ]
  },
  {
   "cell_type": "code",
   "execution_count": 10,
   "metadata": {},
   "outputs": [
    {
     "data": {
      "text/plain": [
       "array([[211.74929866],\n",
       "       [ 53.19292183]])"
      ]
     },
     "execution_count": 10,
     "metadata": {},
     "output_type": "execute_result"
    }
   ],
   "source": [
    "y_predict"
   ]
  },
  {
   "cell_type": "code",
   "execution_count": 11,
   "metadata": {},
   "outputs": [
    {
     "data": {
      "text/plain": [
       "array([[220.],\n",
       "       [ 57.]])"
      ]
     },
     "execution_count": 11,
     "metadata": {},
     "output_type": "execute_result"
    }
   ],
   "source": [
    "y_test"
   ]
  },
  {
   "cell_type": "code",
   "execution_count": 12,
   "metadata": {},
   "outputs": [
    {
     "data": {
      "text/plain": [
       "20.641979211471934"
      ]
     },
     "execution_count": 12,
     "metadata": {},
     "output_type": "execute_result"
    }
   ],
   "source": [
    "SimpleLinearRegression.MSE_loss(mdl.theta, X_test, y_test)"
   ]
  },
  {
   "cell_type": "markdown",
   "metadata": {},
   "source": [
    "##  3. Tìm hiểu sklearn và làm lại yêu cầu câu 2 (câu cộng điểm)"
   ]
  },
  {
   "cell_type": "code",
   "execution_count": 13,
   "metadata": {},
   "outputs": [],
   "source": [
    "from sklearn.linear_model import LinearRegression"
   ]
  },
  {
   "cell_type": "code",
   "execution_count": 14,
   "metadata": {},
   "outputs": [],
   "source": [
    "clf = LinearRegression(fit_intercept = False, normalize = False).fit(X_train, y_train)"
   ]
  },
  {
   "cell_type": "code",
   "execution_count": 15,
   "metadata": {},
   "outputs": [
    {
     "data": {
      "text/plain": [
       "array([[ 152.10620412,   -9.38654069, -239.50541995,  519.71747928,\n",
       "         324.62241148, -788.75647584,  474.10341796,   98.46801188,\n",
       "         175.8004285 ,  749.38200399,   67.88567794]])"
      ]
     },
     "execution_count": 15,
     "metadata": {},
     "output_type": "execute_result"
    }
   ],
   "source": [
    "clf.coef_"
   ]
  },
  {
   "cell_type": "code",
   "execution_count": 16,
   "metadata": {},
   "outputs": [],
   "source": [
    "y_predict = clf.predict(X_test)"
   ]
  },
  {
   "cell_type": "code",
   "execution_count": 17,
   "metadata": {},
   "outputs": [
    {
     "data": {
      "text/plain": [
       "array([[211.74929866],\n",
       "       [ 53.19292183]])"
      ]
     },
     "execution_count": 17,
     "metadata": {},
     "output_type": "execute_result"
    }
   ],
   "source": [
    "y_predict"
   ]
  },
  {
   "cell_type": "code",
   "execution_count": 18,
   "metadata": {},
   "outputs": [
    {
     "data": {
      "text/plain": [
       "array([[220.],\n",
       "       [ 57.]])"
      ]
     },
     "execution_count": 18,
     "metadata": {},
     "output_type": "execute_result"
    }
   ],
   "source": [
    "y_test"
   ]
  },
  {
   "cell_type": "code",
   "execution_count": 19,
   "metadata": {},
   "outputs": [
    {
     "name": "stdout",
     "output_type": "stream",
     "text": [
      "20.64197921145337\n"
     ]
    }
   ],
   "source": [
    "mse_loss = 1/(2*2) * np.sum((y_predict - y_test)**2)\n",
    "print(mse_loss)"
   ]
  }
 ],
 "metadata": {
  "kernelspec": {
   "display_name": "base",
   "language": "python",
   "name": "base"
  },
  "language_info": {
   "codemirror_mode": {
    "name": "ipython",
    "version": 3
   },
   "file_extension": ".py",
   "mimetype": "text/x-python",
   "name": "python",
   "nbconvert_exporter": "python",
   "pygments_lexer": "ipython3",
   "version": "3.8.5"
  }
 },
 "nbformat": 4,
 "nbformat_minor": 4
}
