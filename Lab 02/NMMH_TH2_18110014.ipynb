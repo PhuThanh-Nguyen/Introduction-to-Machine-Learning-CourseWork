{
 "cells": [
  {
   "cell_type": "markdown",
   "metadata": {},
   "source": [
    "# Họ tên: Nguyễn Phú Thành - MSSV: 18110014\n",
    "# Bài tập thực hành Nhập môn máy học - 02"
   ]
  },
  {
   "cell_type": "code",
   "execution_count": 1,
   "metadata": {},
   "outputs": [],
   "source": [
    "import numpy as np\n",
    "from matplotlib import pyplot as plt\n",
    "import pandas as pd\n",
    "from sklearn.model_selection import train_test_split\n",
    "from sklearn.linear_model import LinearRegression"
   ]
  },
  {
   "cell_type": "code",
   "execution_count": 2,
   "metadata": {},
   "outputs": [],
   "source": [
    "class LinearReg:\n",
    "    @staticmethod\n",
    "    def getBatches(X, y, batch_size = 10):\n",
    "        sample_size = X.shape[0]\n",
    "\n",
    "        for i in range(0, sample_size, batch_size):\n",
    "            batch_X, batch_y = X[i:(i+batch_size), :], y[i:(i+batch_size)]\n",
    "            yield batch_X, batch_y\n",
    "\n",
    "    @classmethod\n",
    "    def MSE(cls, theta, X, y):\n",
    "        y_predict = X.dot(theta)\n",
    "        number_sample = X.shape[0]\n",
    "        loss = (1/(2 * number_sample) * (y_predict - y).T.dot(y_predict - y)).item()\n",
    "        return loss\n",
    "\n",
    "    def __init__(self, nb_epoch, batch_size = None, learning_rate = 1e-3):\n",
    "        '''\n",
    "            LinearReg's constructor\n",
    "            ------------------------------\n",
    "            Parameters:\n",
    "                nb_epoch: int\n",
    "                    Number of epoches\n",
    "                batch_size: int, default None\n",
    "                    If batch_size is None then perform Batch Gradient Descent\n",
    "                    If batch_size == 1 then perform Stochastic Gradient Descent\n",
    "                    If batch_size > 1 then perform Mini Batch Gradient Descent\n",
    "                learning_rate: float, default 1e-3\n",
    "        '''\n",
    "        self.epoch, self.batch_size, self.rate = nb_epoch, batch_size, learning_rate\n",
    "\n",
    "        # Define MSE loss function and its gradient\n",
    "        \n",
    "        self.loss_function = lambda theta, batch_X, batch_y: (\n",
    "            1/(2 * batch_X.shape[0]) * (batch_X.dot(theta) - batch_y).T.dot(batch_X.dot(theta) - batch_y)\n",
    "        ).item()\n",
    "        \n",
    "        self.gradient = lambda theta, batch_X, batch_y: 1/(batch_X.shape[0]) * (\n",
    "            batch_X.T.dot(batch_X.dot(theta) - batch_y)\n",
    "        )\n",
    "        \n",
    "        self.theta = None\n",
    "\n",
    "    def fit(self, X, y, init_theta = None, random_state = 0):\n",
    "        '''\n",
    "            Fit linear model\n",
    "            ----------------------------\n",
    "            Parameters:\n",
    "                X: np.ndarray of shape (sample_size, dimension)\n",
    "                    Training data\n",
    "                y: np.ndarray of shape (sample_size, 1)\n",
    "                    Target values\n",
    "                init_theta: np.ndarray of shape (dimension, 1), default None\n",
    "                    Initial value for theta\n",
    "                    If None, initial value for theta will be chosen by normal distribution N(0, 1)\n",
    "                random_stae: int, default 0\n",
    "                    Random state to set initial theta and to shuffle data for each epoch\n",
    "            ----------------------------\n",
    "            Returns: np.ndarray\n",
    "                MSE loss history for each update\n",
    "        '''\n",
    "        rnd = np.random.RandomState(random_state)\n",
    "        X = X.copy()\n",
    "        y = y.reshape((y.shape[0], 1))\n",
    "        sample_size, dimension = X.shape[:2]\n",
    "\n",
    "        if init_theta is None:\n",
    "            self.theta = rnd.normal(loc = 0, scale = 1, size = dimension).reshape((dimension, 1))\n",
    "        else:\n",
    "            self.theta = init_theta.copy()\n",
    "\n",
    "        # If it is BGD (batch_size = None) then not shuffle else shuffle dataset\n",
    "        shuffle = True\n",
    "        if self.batch_size == None:\n",
    "            self.batch_size = sample_size\n",
    "            shuffle = False\n",
    "        \n",
    "        # Save MSE loss for each update\n",
    "        loss_history = []\n",
    "\n",
    "        for i in range(self.epoch):\n",
    "            if shuffle:\n",
    "                # Stack X and y horizontally\n",
    "                data = np.hstack((X, y))\n",
    "                # Shuffle inplace\n",
    "                rnd.shuffle(data)\n",
    "                # Get back X, y after shuffle\n",
    "                X, y = data[:, :dimension], data[:, dimension:]\n",
    "\n",
    "            for batch_X, batch_y in LinearReg.getBatches(X, y, batch_size = self.batch_size):\n",
    "                # Update theta\n",
    "                self.theta = self.theta - self.rate * self.gradient(self.theta, batch_X, batch_y)\n",
    "                \n",
    "                loss = self.loss_function(self.theta, batch_X, batch_y)\n",
    "                loss_history.append(loss)\n",
    "        return np.array(loss_history)\n",
    "\n",
    "    def predict(self, X):\n",
    "        '''\n",
    "            Predict using the linear model.\n",
    "            ---------------------\n",
    "            Parameters:\n",
    "                X: np.ndarray\n",
    "                    Samples\n",
    "            ---------------------\n",
    "            Returns: np.ndarray\n",
    "        '''\n",
    "        \n",
    "        assert self.theta is not None, 'Model needs to fit to a training set before making prediction'\n",
    "        \n",
    "        if len(X.shape) == 1: # Predict one sample\n",
    "            dimension, = X.shape\n",
    "            X = X.reshape((1, dimension))\n",
    "        predict_y = X.dot(self.theta)\n",
    "\n",
    "        return predict_y"
   ]
  },
  {
   "cell_type": "code",
   "execution_count": 3,
   "metadata": {},
   "outputs": [],
   "source": [
    "data = pd.read_csv('Fish.csv')"
   ]
  },
  {
   "cell_type": "code",
   "execution_count": 4,
   "metadata": {},
   "outputs": [
    {
     "data": {
      "text/html": [
       "<div>\n",
       "<style scoped>\n",
       "    .dataframe tbody tr th:only-of-type {\n",
       "        vertical-align: middle;\n",
       "    }\n",
       "\n",
       "    .dataframe tbody tr th {\n",
       "        vertical-align: top;\n",
       "    }\n",
       "\n",
       "    .dataframe thead th {\n",
       "        text-align: right;\n",
       "    }\n",
       "</style>\n",
       "<table border=\"1\" class=\"dataframe\">\n",
       "  <thead>\n",
       "    <tr style=\"text-align: right;\">\n",
       "      <th></th>\n",
       "      <th>Species</th>\n",
       "      <th>Weight</th>\n",
       "      <th>Length1</th>\n",
       "      <th>Length2</th>\n",
       "      <th>Length3</th>\n",
       "      <th>Height</th>\n",
       "      <th>Width</th>\n",
       "    </tr>\n",
       "  </thead>\n",
       "  <tbody>\n",
       "    <tr>\n",
       "      <th>0</th>\n",
       "      <td>Bream</td>\n",
       "      <td>242.0</td>\n",
       "      <td>23.2</td>\n",
       "      <td>25.4</td>\n",
       "      <td>30.0</td>\n",
       "      <td>11.5200</td>\n",
       "      <td>4.0200</td>\n",
       "    </tr>\n",
       "    <tr>\n",
       "      <th>1</th>\n",
       "      <td>Bream</td>\n",
       "      <td>290.0</td>\n",
       "      <td>24.0</td>\n",
       "      <td>26.3</td>\n",
       "      <td>31.2</td>\n",
       "      <td>12.4800</td>\n",
       "      <td>4.3056</td>\n",
       "    </tr>\n",
       "    <tr>\n",
       "      <th>2</th>\n",
       "      <td>Bream</td>\n",
       "      <td>340.0</td>\n",
       "      <td>23.9</td>\n",
       "      <td>26.5</td>\n",
       "      <td>31.1</td>\n",
       "      <td>12.3778</td>\n",
       "      <td>4.6961</td>\n",
       "    </tr>\n",
       "    <tr>\n",
       "      <th>3</th>\n",
       "      <td>Bream</td>\n",
       "      <td>363.0</td>\n",
       "      <td>26.3</td>\n",
       "      <td>29.0</td>\n",
       "      <td>33.5</td>\n",
       "      <td>12.7300</td>\n",
       "      <td>4.4555</td>\n",
       "    </tr>\n",
       "    <tr>\n",
       "      <th>4</th>\n",
       "      <td>Bream</td>\n",
       "      <td>430.0</td>\n",
       "      <td>26.5</td>\n",
       "      <td>29.0</td>\n",
       "      <td>34.0</td>\n",
       "      <td>12.4440</td>\n",
       "      <td>5.1340</td>\n",
       "    </tr>\n",
       "  </tbody>\n",
       "</table>\n",
       "</div>"
      ],
      "text/plain": [
       "  Species  Weight  Length1  Length2  Length3   Height   Width\n",
       "0   Bream   242.0     23.2     25.4     30.0  11.5200  4.0200\n",
       "1   Bream   290.0     24.0     26.3     31.2  12.4800  4.3056\n",
       "2   Bream   340.0     23.9     26.5     31.1  12.3778  4.6961\n",
       "3   Bream   363.0     26.3     29.0     33.5  12.7300  4.4555\n",
       "4   Bream   430.0     26.5     29.0     34.0  12.4440  5.1340"
      ]
     },
     "execution_count": 4,
     "metadata": {},
     "output_type": "execute_result"
    }
   ],
   "source": [
    "data.head(n = 5)"
   ]
  },
  {
   "cell_type": "code",
   "execution_count": 5,
   "metadata": {},
   "outputs": [
    {
     "data": {
      "text/html": [
       "<div>\n",
       "<style scoped>\n",
       "    .dataframe tbody tr th:only-of-type {\n",
       "        vertical-align: middle;\n",
       "    }\n",
       "\n",
       "    .dataframe tbody tr th {\n",
       "        vertical-align: top;\n",
       "    }\n",
       "\n",
       "    .dataframe thead th {\n",
       "        text-align: right;\n",
       "    }\n",
       "</style>\n",
       "<table border=\"1\" class=\"dataframe\">\n",
       "  <thead>\n",
       "    <tr style=\"text-align: right;\">\n",
       "      <th></th>\n",
       "      <th>Species</th>\n",
       "      <th>Weight</th>\n",
       "      <th>Length1</th>\n",
       "      <th>Length2</th>\n",
       "      <th>Length3</th>\n",
       "      <th>Height</th>\n",
       "      <th>Width</th>\n",
       "    </tr>\n",
       "  </thead>\n",
       "  <tbody>\n",
       "    <tr>\n",
       "      <th>154</th>\n",
       "      <td>Smelt</td>\n",
       "      <td>12.2</td>\n",
       "      <td>11.5</td>\n",
       "      <td>12.2</td>\n",
       "      <td>13.4</td>\n",
       "      <td>2.0904</td>\n",
       "      <td>1.3936</td>\n",
       "    </tr>\n",
       "    <tr>\n",
       "      <th>155</th>\n",
       "      <td>Smelt</td>\n",
       "      <td>13.4</td>\n",
       "      <td>11.7</td>\n",
       "      <td>12.4</td>\n",
       "      <td>13.5</td>\n",
       "      <td>2.4300</td>\n",
       "      <td>1.2690</td>\n",
       "    </tr>\n",
       "    <tr>\n",
       "      <th>156</th>\n",
       "      <td>Smelt</td>\n",
       "      <td>12.2</td>\n",
       "      <td>12.1</td>\n",
       "      <td>13.0</td>\n",
       "      <td>13.8</td>\n",
       "      <td>2.2770</td>\n",
       "      <td>1.2558</td>\n",
       "    </tr>\n",
       "    <tr>\n",
       "      <th>157</th>\n",
       "      <td>Smelt</td>\n",
       "      <td>19.7</td>\n",
       "      <td>13.2</td>\n",
       "      <td>14.3</td>\n",
       "      <td>15.2</td>\n",
       "      <td>2.8728</td>\n",
       "      <td>2.0672</td>\n",
       "    </tr>\n",
       "    <tr>\n",
       "      <th>158</th>\n",
       "      <td>Smelt</td>\n",
       "      <td>19.9</td>\n",
       "      <td>13.8</td>\n",
       "      <td>15.0</td>\n",
       "      <td>16.2</td>\n",
       "      <td>2.9322</td>\n",
       "      <td>1.8792</td>\n",
       "    </tr>\n",
       "  </tbody>\n",
       "</table>\n",
       "</div>"
      ],
      "text/plain": [
       "    Species  Weight  Length1  Length2  Length3  Height   Width\n",
       "154   Smelt    12.2     11.5     12.2     13.4  2.0904  1.3936\n",
       "155   Smelt    13.4     11.7     12.4     13.5  2.4300  1.2690\n",
       "156   Smelt    12.2     12.1     13.0     13.8  2.2770  1.2558\n",
       "157   Smelt    19.7     13.2     14.3     15.2  2.8728  2.0672\n",
       "158   Smelt    19.9     13.8     15.0     16.2  2.9322  1.8792"
      ]
     },
     "execution_count": 5,
     "metadata": {},
     "output_type": "execute_result"
    }
   ],
   "source": [
    "data.tail(n = 5)"
   ]
  },
  {
   "cell_type": "code",
   "execution_count": 6,
   "metadata": {},
   "outputs": [
    {
     "data": {
      "text/plain": [
       "(159, 7)"
      ]
     },
     "execution_count": 6,
     "metadata": {},
     "output_type": "execute_result"
    }
   ],
   "source": [
    "data.shape"
   ]
  },
  {
   "cell_type": "markdown",
   "metadata": {},
   "source": [
    "## 1. Dùng 2 thuật toán Gradient Descent còn lại để tìm bộ Weight theo Height trong data fish"
   ]
  },
  {
   "cell_type": "code",
   "execution_count": 7,
   "metadata": {},
   "outputs": [],
   "source": [
    "X = data[['Height']].to_numpy()\n",
    "y = data[['Weight']].to_numpy()"
   ]
  },
  {
   "cell_type": "code",
   "execution_count": 8,
   "metadata": {},
   "outputs": [],
   "source": [
    "X = np.hstack(\n",
    "    (\n",
    "        np.ones((X.shape[0], 1)),\n",
    "        X\n",
    "    )\n",
    ")"
   ]
  },
  {
   "cell_type": "code",
   "execution_count": 9,
   "metadata": {},
   "outputs": [],
   "source": [
    "X_train, X_test, y_train, y_test = train_test_split(X, y, test_size = 0.2, random_state = 1)"
   ]
  },
  {
   "cell_type": "code",
   "execution_count": 10,
   "metadata": {},
   "outputs": [
    {
     "data": {
      "text/plain": [
       "(127, 2)"
      ]
     },
     "execution_count": 10,
     "metadata": {},
     "output_type": "execute_result"
    }
   ],
   "source": [
    "X_train.shape"
   ]
  },
  {
   "cell_type": "markdown",
   "metadata": {},
   "source": [
    "## Stochastic Gradient Descent"
   ]
  },
  {
   "cell_type": "code",
   "execution_count": 11,
   "metadata": {},
   "outputs": [],
   "source": [
    "SGD = LinearReg(nb_epoch = 1000, batch_size = 1, learning_rate = 0.01)"
   ]
  },
  {
   "cell_type": "code",
   "execution_count": 12,
   "metadata": {},
   "outputs": [],
   "source": [
    "history = SGD.fit(X_train, y_train, random_state = 1)"
   ]
  },
  {
   "cell_type": "code",
   "execution_count": 13,
   "metadata": {},
   "outputs": [
    {
     "data": {
      "text/plain": [
       "[<matplotlib.lines.Line2D at 0x7f48687de610>]"
      ]
     },
     "execution_count": 13,
     "metadata": {},
     "output_type": "execute_result"
    },
    {
     "data": {
      "image/png": "[encoded data removed]",
      "text/plain": [
       "<Figure size 864x720 with 1 Axes>"
      ]
     },
     "metadata": {
      "needs_background": "light"
     },
     "output_type": "display_data"
    }
   ],
   "source": [
    "temp = np.linspace(np.min(X[:, 1]), np.max(X[:, 1]), num = 1000)\n",
    "fig, ax = plt.subplots(figsize = (12, 10))\n",
    "ax.scatter(X[:, 1], y)\n",
    "ax.plot(\n",
    "    temp, \n",
    "    SGD.predict(\n",
    "        np.hstack(\n",
    "            (\n",
    "                np.ones((temp.shape[0], 1)),\n",
    "                temp.reshape(temp.shape[0], 1)\n",
    "            )\n",
    "        )\n",
    "    )\n",
    ")"
   ]
  },
  {
   "cell_type": "markdown",
   "metadata": {},
   "source": [
    "## Mini Batch Gradient Descent"
   ]
  },
  {
   "cell_type": "code",
   "execution_count": 14,
   "metadata": {},
   "outputs": [],
   "source": [
    "MBGD = LinearReg(nb_epoch = 32000, batch_size = 32, learning_rate = 0.01)"
   ]
  },
  {
   "cell_type": "code",
   "execution_count": 15,
   "metadata": {},
   "outputs": [],
   "source": [
    "history = MBGD.fit(X_train, y_train, random_state = 1)"
   ]
  },
  {
   "cell_type": "code",
   "execution_count": 16,
   "metadata": {},
   "outputs": [
    {
     "data": {
      "text/plain": [
       "[<matplotlib.lines.Line2D at 0x7f4867988820>]"
      ]
     },
     "execution_count": 16,
     "metadata": {},
     "output_type": "execute_result"
    },
    {
     "data": {
      "image/png": "[encoded data removed]",
      "text/plain": [
       "<Figure size 864x720 with 1 Axes>"
      ]
     },
     "metadata": {
      "needs_background": "light"
     },
     "output_type": "display_data"
    }
   ],
   "source": [
    "temp = np.linspace(np.min(X[:, 1]), np.max(X[:, 1]), num = 1000)\n",
    "fig, ax = plt.subplots(figsize = (12, 10))\n",
    "ax.scatter(X[:, 1], y)\n",
    "ax.plot(\n",
    "    temp, \n",
    "    MBGD.predict(\n",
    "        np.hstack(\n",
    "            (\n",
    "                np.ones((temp.shape[0], 1)),\n",
    "                temp.reshape(temp.shape[0], 1)\n",
    "            )\n",
    "        )\n",
    "    )\n",
    ")"
   ]
  },
  {
   "cell_type": "code",
   "execution_count": 17,
   "metadata": {},
   "outputs": [],
   "source": [
    "summary_table = pd.DataFrame(\n",
    "    data = {\n",
    "            'Stochastic Gradient Descent': (\n",
    "                LinearReg.MSE(SGD.theta, X_train, y_train),\n",
    "                LinearReg.MSE(SGD.theta, X_test, y_test),                \n",
    "            ),\n",
    "            'Mini Batch Gradient Descent': (\n",
    "                LinearReg.MSE(MBGD.theta, X_train, y_train),\n",
    "                LinearReg.MSE(MBGD.theta, X_test, y_test),                \n",
    "            )\n",
    "           },\n",
    "    index = ('MSE loss on training dataset', 'MSE loss on testing dataset')\n",
    ")"
   ]
  },
  {
   "cell_type": "code",
   "execution_count": 18,
   "metadata": {},
   "outputs": [
    {
     "data": {
      "text/html": [
       "<div>\n",
       "<style scoped>\n",
       "    .dataframe tbody tr th:only-of-type {\n",
       "        vertical-align: middle;\n",
       "    }\n",
       "\n",
       "    .dataframe tbody tr th {\n",
       "        vertical-align: top;\n",
       "    }\n",
       "\n",
       "    .dataframe thead th {\n",
       "        text-align: right;\n",
       "    }\n",
       "</style>\n",
       "<table border=\"1\" class=\"dataframe\">\n",
       "  <thead>\n",
       "    <tr style=\"text-align: right;\">\n",
       "      <th></th>\n",
       "      <th>Stochastic Gradient Descent</th>\n",
       "      <th>Mini Batch Gradient Descent</th>\n",
       "    </tr>\n",
       "  </thead>\n",
       "  <tbody>\n",
       "    <tr>\n",
       "      <th>MSE loss on training dataset</th>\n",
       "      <td>47757.011938</td>\n",
       "      <td>30932.934541</td>\n",
       "    </tr>\n",
       "    <tr>\n",
       "      <th>MSE loss on testing dataset</th>\n",
       "      <td>45804.299603</td>\n",
       "      <td>28540.969367</td>\n",
       "    </tr>\n",
       "  </tbody>\n",
       "</table>\n",
       "</div>"
      ],
      "text/plain": [
       "                              Stochastic Gradient Descent  \\\n",
       "MSE loss on training dataset                 47757.011938   \n",
       "MSE loss on testing dataset                  45804.299603   \n",
       "\n",
       "                              Mini Batch Gradient Descent  \n",
       "MSE loss on training dataset                 30932.934541  \n",
       "MSE loss on testing dataset                  28540.969367  "
      ]
     },
     "execution_count": 18,
     "metadata": {},
     "output_type": "execute_result"
    }
   ],
   "source": [
    "summary_table"
   ]
  },
  {
   "cell_type": "markdown",
   "metadata": {},
   "source": [
    "## 2. Dùng 3 thuật toán Gradient Descent đã học để tìm bộ Weight theo Height và Width trong data fish"
   ]
  },
  {
   "cell_type": "code",
   "execution_count": 19,
   "metadata": {},
   "outputs": [],
   "source": [
    "X = data[['Height', 'Width']].to_numpy()\n",
    "y = data[['Weight']].to_numpy()"
   ]
  },
  {
   "cell_type": "code",
   "execution_count": 20,
   "metadata": {},
   "outputs": [],
   "source": [
    "X = np.hstack(\n",
    "    (\n",
    "        np.ones((X.shape[0], 1)),\n",
    "        X\n",
    "    )\n",
    ")"
   ]
  },
  {
   "cell_type": "code",
   "execution_count": 21,
   "metadata": {},
   "outputs": [],
   "source": [
    "X_train, X_test, y_train, y_test = train_test_split(X, y, test_size = 0.2, random_state = 1)"
   ]
  },
  {
   "cell_type": "code",
   "execution_count": 22,
   "metadata": {},
   "outputs": [
    {
     "data": {
      "text/plain": [
       "(127, 3)"
      ]
     },
     "execution_count": 22,
     "metadata": {},
     "output_type": "execute_result"
    }
   ],
   "source": [
    "X_train.shape"
   ]
  },
  {
   "cell_type": "code",
   "execution_count": 23,
   "metadata": {},
   "outputs": [],
   "source": [
    "# Khởi tạo cùng theta để so sánh 3 thuật toán\n",
    "theta_0 = np.array([0.25, 0.5, 0.75]).reshape((3, 1))"
   ]
  },
  {
   "cell_type": "markdown",
   "metadata": {},
   "source": [
    "## Batch Gradient Descent"
   ]
  },
  {
   "cell_type": "code",
   "execution_count": 24,
   "metadata": {},
   "outputs": [],
   "source": [
    "BGD = LinearReg(nb_epoch = 127000, batch_size = None, learning_rate = 0.01)"
   ]
  },
  {
   "cell_type": "code",
   "execution_count": 25,
   "metadata": {},
   "outputs": [],
   "source": [
    "history = BGD.fit(X_train, y_train, init_theta = theta_0, random_state = 1)"
   ]
  },
  {
   "cell_type": "code",
   "execution_count": 26,
   "metadata": {},
   "outputs": [
    {
     "data": {
      "text/plain": [
       "[<matplotlib.lines.Line2D at 0x7f48678e6a90>]"
      ]
     },
     "execution_count": 26,
     "metadata": {},
     "output_type": "execute_result"
    },
    {
     "data": {
      "image/png": "[encoded data removed]",
      "text/plain": [
       "<Figure size 864x720 with 1 Axes>"
      ]
     },
     "metadata": {
      "needs_background": "light"
     },
     "output_type": "display_data"
    }
   ],
   "source": [
    "fig, ax = plt.subplots(figsize = (12, 10))\n",
    "ax.plot(history)"
   ]
  },
  {
   "cell_type": "markdown",
   "metadata": {},
   "source": [
    "## Stochastic Gradient Descent"
   ]
  },
  {
   "cell_type": "code",
   "execution_count": 27,
   "metadata": {},
   "outputs": [],
   "source": [
    "SGD = LinearReg(nb_epoch = 1000, batch_size = 1, learning_rate = 0.01)"
   ]
  },
  {
   "cell_type": "code",
   "execution_count": 28,
   "metadata": {},
   "outputs": [],
   "source": [
    "history = SGD.fit(X_train, y_train, init_theta = theta_0, random_state = 1)"
   ]
  },
  {
   "cell_type": "code",
   "execution_count": 29,
   "metadata": {},
   "outputs": [
    {
     "data": {
      "text/plain": [
       "[<matplotlib.lines.Line2D at 0x7f48678bb670>]"
      ]
     },
     "execution_count": 29,
     "metadata": {},
     "output_type": "execute_result"
    },
    {
     "data": {
      "image/png": "[encoded data removed]",
      "text/plain": [
       "<Figure size 864x720 with 1 Axes>"
      ]
     },
     "metadata": {
      "needs_background": "light"
     },
     "output_type": "display_data"
    }
   ],
   "source": [
    "fig, ax = plt.subplots(figsize = (12, 10))\n",
    "ax.plot(history)"
   ]
  },
  {
   "cell_type": "markdown",
   "metadata": {},
   "source": [
    "## Mini Batch Gradient Descent"
   ]
  },
  {
   "cell_type": "code",
   "execution_count": 30,
   "metadata": {},
   "outputs": [],
   "source": [
    "MBGD = LinearReg(nb_epoch = 32000, batch_size = 32, learning_rate = 0.01)"
   ]
  },
  {
   "cell_type": "code",
   "execution_count": 31,
   "metadata": {},
   "outputs": [],
   "source": [
    "history = MBGD.fit(X_train, y_train, init_theta = theta_0, random_state = 1)"
   ]
  },
  {
   "cell_type": "code",
   "execution_count": 32,
   "metadata": {},
   "outputs": [
    {
     "data": {
      "text/plain": [
       "[<matplotlib.lines.Line2D at 0x7f48686b8850>]"
      ]
     },
     "execution_count": 32,
     "metadata": {},
     "output_type": "execute_result"
    },
    {
     "data": {
      "image/png": "[encoded data removed]",
      "text/plain": [
       "<Figure size 864x720 with 1 Axes>"
      ]
     },
     "metadata": {
      "needs_background": "light"
     },
     "output_type": "display_data"
    }
   ],
   "source": [
    "fig, ax = plt.subplots(figsize = (12, 10))\n",
    "ax.plot(history)"
   ]
  },
  {
   "cell_type": "markdown",
   "metadata": {},
   "source": [
    "## 3. Cho biết Weights tốt nhất cho các mô hình trên"
   ]
  },
  {
   "cell_type": "code",
   "execution_count": 33,
   "metadata": {},
   "outputs": [],
   "source": [
    "summary_table = pd.DataFrame(\n",
    "    data = {\n",
    "            'Batch Gradient Descent': (\n",
    "                LinearReg.MSE(BGD.theta, X_train, y_train),\n",
    "                LinearReg.MSE(BGD.theta, X_test, y_test),\n",
    "            ),\n",
    "            'Stochastic Gradient Descent': (\n",
    "                LinearReg.MSE(SGD.theta, X_train, y_train),\n",
    "                LinearReg.MSE(SGD.theta, X_test, y_test),                \n",
    "            ),\n",
    "            'Mini Batch Gradient Descent': (\n",
    "                LinearReg.MSE(MBGD.theta, X_train, y_train),\n",
    "                LinearReg.MSE(MBGD.theta, X_test, y_test),                \n",
    "            )\n",
    "           },\n",
    "    index = ('MSE loss on training dataset', 'MSE loss on testing dataset')\n",
    ")"
   ]
  },
  {
   "cell_type": "code",
   "execution_count": 34,
   "metadata": {},
   "outputs": [
    {
     "data": {
      "text/html": [
       "<div>\n",
       "<style scoped>\n",
       "    .dataframe tbody tr th:only-of-type {\n",
       "        vertical-align: middle;\n",
       "    }\n",
       "\n",
       "    .dataframe tbody tr th {\n",
       "        vertical-align: top;\n",
       "    }\n",
       "\n",
       "    .dataframe thead th {\n",
       "        text-align: right;\n",
       "    }\n",
       "</style>\n",
       "<table border=\"1\" class=\"dataframe\">\n",
       "  <thead>\n",
       "    <tr style=\"text-align: right;\">\n",
       "      <th></th>\n",
       "      <th>Batch Gradient Descent</th>\n",
       "      <th>Stochastic Gradient Descent</th>\n",
       "      <th>Mini Batch Gradient Descent</th>\n",
       "    </tr>\n",
       "  </thead>\n",
       "  <tbody>\n",
       "    <tr>\n",
       "      <th>MSE loss on training dataset</th>\n",
       "      <td>12191.550860</td>\n",
       "      <td>617749.920828</td>\n",
       "      <td>12528.968513</td>\n",
       "    </tr>\n",
       "    <tr>\n",
       "      <th>MSE loss on testing dataset</th>\n",
       "      <td>19231.487049</td>\n",
       "      <td>557513.788345</td>\n",
       "      <td>19833.876521</td>\n",
       "    </tr>\n",
       "  </tbody>\n",
       "</table>\n",
       "</div>"
      ],
      "text/plain": [
       "                              Batch Gradient Descent  \\\n",
       "MSE loss on training dataset            12191.550860   \n",
       "MSE loss on testing dataset             19231.487049   \n",
       "\n",
       "                              Stochastic Gradient Descent  \\\n",
       "MSE loss on training dataset                617749.920828   \n",
       "MSE loss on testing dataset                 557513.788345   \n",
       "\n",
       "                              Mini Batch Gradient Descent  \n",
       "MSE loss on training dataset                 12528.968513  \n",
       "MSE loss on testing dataset                  19833.876521  "
      ]
     },
     "execution_count": 34,
     "metadata": {},
     "output_type": "execute_result"
    }
   ],
   "source": [
    "summary_table"
   ]
  },
  {
   "cell_type": "markdown",
   "metadata": {},
   "source": [
    "## Nhận thấy trọng số cho bởi Batch Gradient Descent có MSE Loss nhỏ nhất trên tập test trong cả 3 thuật toán. Do đó ta chọn Weights của BGD"
   ]
  },
  {
   "cell_type": "code",
   "execution_count": 35,
   "metadata": {},
   "outputs": [
    {
     "data": {
      "text/plain": [
       "array([[-415.4812046 ],\n",
       "       [   1.63051922],\n",
       "       [ 181.33412414]])"
      ]
     },
     "execution_count": 35,
     "metadata": {},
     "output_type": "execute_result"
    }
   ],
   "source": [
    "BGD.theta"
   ]
  }
 ],
 "metadata": {
  "kernelspec": {
   "display_name": "base",
   "language": "python",
   "name": "base"
  },
  "language_info": {
   "codemirror_mode": {
    "name": "ipython",
    "version": 3
   },
   "file_extension": ".py",
   "mimetype": "text/x-python",
   "name": "python",
   "nbconvert_exporter": "python",
   "pygments_lexer": "ipython3",
   "version": "3.8.5"
  }
 },
 "nbformat": 4,
 "nbformat_minor": 4
}
