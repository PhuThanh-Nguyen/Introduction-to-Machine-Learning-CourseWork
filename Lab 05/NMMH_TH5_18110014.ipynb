{
 "cells": [
  {
   "cell_type": "markdown",
   "metadata": {},
   "source": [
    "## Họ tên: Nguyễn Phú Thành - MSSV: 18110014\n",
    "## Bài tập thực hành Nhập môn máy học - Lab 05"
   ]
  },
  {
   "cell_type": "code",
   "execution_count": 1,
   "metadata": {},
   "outputs": [],
   "source": [
    "import numpy as np\n",
    "import pandas as pd\n",
    "from matplotlib import pyplot as plt\n",
    "from scipy.spatial.distance import pdist as pairwiseDist\n",
    "from sklearn.model_selection import train_test_split"
   ]
  },
  {
   "cell_type": "code",
   "execution_count": 2,
   "metadata": {},
   "outputs": [],
   "source": [
    "class KMeansCluster:\n",
    "    def __init__(self, number_clusters = None):\n",
    "        self.number_clusters = number_clusters \n",
    "    \n",
    "    def __getDistanceMatrix__(self, X, clusters):\n",
    "        '''\n",
    "            Given K clusters (c_1, c_2,...,c_K) and n data points (x_1, x_2,...,x_n)\n",
    "            where each data point is a row in X.\n",
    "            Distance matrix (n, K) has the form:\n",
    "                [\n",
    "                    [d(x_1, c_1), d(x_1, c_2), ..., d(x_1, c_K)],\n",
    "                    [d(x_2, c_1), d(x_2, c_2), ..., d(x_2, c_K)],\n",
    "                    ...\n",
    "                    [d(x_n, c_1), d(x_n, c_2), ..., d(x_n, c_K)]\n",
    "                ]\n",
    "        '''\n",
    "        number_obsv, dimension = X.shape[:2]\n",
    "        dist = [\n",
    "            np.linalg.norm(X - cluster.reshape((1, dimension)), axis = 1)\n",
    "            .reshape((number_obsv, 1)) for cluster in clusters\n",
    "        ]\n",
    "        return np.hstack(dist)\n",
    "    \n",
    "    def __getIndexCluster__(self, distanceMatrix):\n",
    "        return distanceMatrix.argmin(axis = 1)\n",
    "    \n",
    "    def __WCV__(self, index_cluster, X):\n",
    "        wcv = 0\n",
    "        for i in np.unique(index_cluster):\n",
    "            points_in_cluster = X[index_cluster == i]\n",
    "            wcv += pairwiseDist(points_in_cluster).sum() * 1/points_in_cluster.shape[0]\n",
    "        return wcv\n",
    "    \n",
    "    def fit(self, X, init_clusters = None, maxiter = 100, random_state = 0):\n",
    "        number_obsv, dimension = X.shape[:2]\n",
    "        \n",
    "        #Initialize clusters centroid\n",
    "        if init_clusters is None:\n",
    "            # If not pre-assign, randomly choose K (number clusters) data points in X\n",
    "            rnd = np.random.RandomState(random_state)\n",
    "            shuffle_index = rnd.choice(np.arange(number_obsv), size = self.number_clusters, replace = False)\n",
    "            self.clusters = X[shuffle_index].astype(float)\n",
    "        else:\n",
    "            # init_clusters must have the form (K, p), each row is a centroid in p-dimension\n",
    "            assert init_clusters.shape == (self.number_clusters, dimension)\n",
    "            self.clusters = init_clusters.copy()\n",
    "        \n",
    "        # Initial distance of each point to each cluster\n",
    "        distance_matrix = self.__getDistanceMatrix__(X, self.clusters)\n",
    "        # Initial label of each point\n",
    "        index_cluster = self.__getIndexCluster__(distance_matrix)\n",
    "        \n",
    "        for _ in range(maxiter):\n",
    "            # Update each centroid\n",
    "            for i, centroid in enumerate(self.clusters):\n",
    "                new_centroid = X[index_cluster == i].mean(axis = 0)\n",
    "                # If new centroid doesn't change much from current centroid then quit\n",
    "                if np.allclose(new_centroid, centroid):\n",
    "                    return self.__WCV__(index_cluster, X)\n",
    "                self.clusters[i, :] = new_centroid\n",
    "            # Update distance of each point to each cluster and label of each point\n",
    "            distance_matrix = self.__getDistanceMatrix__(X, self.clusters)\n",
    "            index_cluster = self.__getIndexCluster__(distance_matrix)\n",
    "        \n",
    "        return self.__WCV__(index_cluster, X)\n",
    "\n",
    "    def predict(self, X):\n",
    "        # Predict label of one sample -> Reshape it into (1, p) matrix\n",
    "        if len(X.shape) == 1:\n",
    "            X = X.reshape((1, X.shape[0]))\n",
    "        distance_matrix = self.__getDistanceMatrix__(X, self.clusters)\n",
    "        index_cluster = self.__getIndexCluster__(distance_matrix)\n",
    "        return index_cluster"
   ]
  },
  {
   "cell_type": "markdown",
   "metadata": {},
   "source": [
    "## 1. Hãy dùng thuật toán K-mean để chọn ra số cụm thích hợp (như trong slide bài giảng) dựa trên tập training, và dự đoán label của các quan sát trên tập testing của bộ dữ liệu bên dưới"
   ]
  },
  {
   "cell_type": "code",
   "execution_count": 3,
   "metadata": {},
   "outputs": [],
   "source": [
    "data = pd.read_csv('data.csv')"
   ]
  },
  {
   "cell_type": "code",
   "execution_count": 4,
   "metadata": {},
   "outputs": [
    {
     "data": {
      "text/html": [
       "<div>\n",
       "<style scoped>\n",
       "    .dataframe tbody tr th:only-of-type {\n",
       "        vertical-align: middle;\n",
       "    }\n",
       "\n",
       "    .dataframe tbody tr th {\n",
       "        vertical-align: top;\n",
       "    }\n",
       "\n",
       "    .dataframe thead th {\n",
       "        text-align: right;\n",
       "    }\n",
       "</style>\n",
       "<table border=\"1\" class=\"dataframe\">\n",
       "  <thead>\n",
       "    <tr style=\"text-align: right;\">\n",
       "      <th></th>\n",
       "      <th>CustomerID</th>\n",
       "      <th>Genre</th>\n",
       "      <th>Age</th>\n",
       "      <th>Annual Income (k$)</th>\n",
       "      <th>Spending Score (1-100)</th>\n",
       "    </tr>\n",
       "  </thead>\n",
       "  <tbody>\n",
       "    <tr>\n",
       "      <th>0</th>\n",
       "      <td>1</td>\n",
       "      <td>Male</td>\n",
       "      <td>19</td>\n",
       "      <td>15</td>\n",
       "      <td>39</td>\n",
       "    </tr>\n",
       "    <tr>\n",
       "      <th>1</th>\n",
       "      <td>2</td>\n",
       "      <td>Male</td>\n",
       "      <td>21</td>\n",
       "      <td>15</td>\n",
       "      <td>81</td>\n",
       "    </tr>\n",
       "    <tr>\n",
       "      <th>2</th>\n",
       "      <td>3</td>\n",
       "      <td>Female</td>\n",
       "      <td>20</td>\n",
       "      <td>16</td>\n",
       "      <td>6</td>\n",
       "    </tr>\n",
       "    <tr>\n",
       "      <th>3</th>\n",
       "      <td>4</td>\n",
       "      <td>Female</td>\n",
       "      <td>23</td>\n",
       "      <td>16</td>\n",
       "      <td>77</td>\n",
       "    </tr>\n",
       "    <tr>\n",
       "      <th>4</th>\n",
       "      <td>5</td>\n",
       "      <td>Female</td>\n",
       "      <td>31</td>\n",
       "      <td>17</td>\n",
       "      <td>40</td>\n",
       "    </tr>\n",
       "  </tbody>\n",
       "</table>\n",
       "</div>"
      ],
      "text/plain": [
       "   CustomerID   Genre  Age  Annual Income (k$)  Spending Score (1-100)\n",
       "0           1    Male   19                  15                      39\n",
       "1           2    Male   21                  15                      81\n",
       "2           3  Female   20                  16                       6\n",
       "3           4  Female   23                  16                      77\n",
       "4           5  Female   31                  17                      40"
      ]
     },
     "execution_count": 4,
     "metadata": {},
     "output_type": "execute_result"
    }
   ],
   "source": [
    "data.head()"
   ]
  },
  {
   "cell_type": "code",
   "execution_count": 5,
   "metadata": {},
   "outputs": [
    {
     "data": {
      "text/html": [
       "<div>\n",
       "<style scoped>\n",
       "    .dataframe tbody tr th:only-of-type {\n",
       "        vertical-align: middle;\n",
       "    }\n",
       "\n",
       "    .dataframe tbody tr th {\n",
       "        vertical-align: top;\n",
       "    }\n",
       "\n",
       "    .dataframe thead th {\n",
       "        text-align: right;\n",
       "    }\n",
       "</style>\n",
       "<table border=\"1\" class=\"dataframe\">\n",
       "  <thead>\n",
       "    <tr style=\"text-align: right;\">\n",
       "      <th></th>\n",
       "      <th>CustomerID</th>\n",
       "      <th>Age</th>\n",
       "      <th>Annual Income (k$)</th>\n",
       "      <th>Spending Score (1-100)</th>\n",
       "    </tr>\n",
       "  </thead>\n",
       "  <tbody>\n",
       "    <tr>\n",
       "      <th>count</th>\n",
       "      <td>200.000000</td>\n",
       "      <td>200.000000</td>\n",
       "      <td>200.000000</td>\n",
       "      <td>200.000000</td>\n",
       "    </tr>\n",
       "    <tr>\n",
       "      <th>mean</th>\n",
       "      <td>100.500000</td>\n",
       "      <td>38.850000</td>\n",
       "      <td>60.560000</td>\n",
       "      <td>50.200000</td>\n",
       "    </tr>\n",
       "    <tr>\n",
       "      <th>std</th>\n",
       "      <td>57.879185</td>\n",
       "      <td>13.969007</td>\n",
       "      <td>26.264721</td>\n",
       "      <td>25.823522</td>\n",
       "    </tr>\n",
       "    <tr>\n",
       "      <th>min</th>\n",
       "      <td>1.000000</td>\n",
       "      <td>18.000000</td>\n",
       "      <td>15.000000</td>\n",
       "      <td>1.000000</td>\n",
       "    </tr>\n",
       "    <tr>\n",
       "      <th>25%</th>\n",
       "      <td>50.750000</td>\n",
       "      <td>28.750000</td>\n",
       "      <td>41.500000</td>\n",
       "      <td>34.750000</td>\n",
       "    </tr>\n",
       "    <tr>\n",
       "      <th>50%</th>\n",
       "      <td>100.500000</td>\n",
       "      <td>36.000000</td>\n",
       "      <td>61.500000</td>\n",
       "      <td>50.000000</td>\n",
       "    </tr>\n",
       "    <tr>\n",
       "      <th>75%</th>\n",
       "      <td>150.250000</td>\n",
       "      <td>49.000000</td>\n",
       "      <td>78.000000</td>\n",
       "      <td>73.000000</td>\n",
       "    </tr>\n",
       "    <tr>\n",
       "      <th>max</th>\n",
       "      <td>200.000000</td>\n",
       "      <td>70.000000</td>\n",
       "      <td>137.000000</td>\n",
       "      <td>99.000000</td>\n",
       "    </tr>\n",
       "  </tbody>\n",
       "</table>\n",
       "</div>"
      ],
      "text/plain": [
       "       CustomerID         Age  Annual Income (k$)  Spending Score (1-100)\n",
       "count  200.000000  200.000000          200.000000              200.000000\n",
       "mean   100.500000   38.850000           60.560000               50.200000\n",
       "std     57.879185   13.969007           26.264721               25.823522\n",
       "min      1.000000   18.000000           15.000000                1.000000\n",
       "25%     50.750000   28.750000           41.500000               34.750000\n",
       "50%    100.500000   36.000000           61.500000               50.000000\n",
       "75%    150.250000   49.000000           78.000000               73.000000\n",
       "max    200.000000   70.000000          137.000000               99.000000"
      ]
     },
     "execution_count": 5,
     "metadata": {},
     "output_type": "execute_result"
    }
   ],
   "source": [
    "data.describe()"
   ]
  },
  {
   "cell_type": "code",
   "execution_count": 6,
   "metadata": {},
   "outputs": [
    {
     "data": {
      "text/plain": [
       "CustomerID                0\n",
       "Genre                     0\n",
       "Age                       0\n",
       "Annual Income (k$)        0\n",
       "Spending Score (1-100)    0\n",
       "dtype: int64"
      ]
     },
     "execution_count": 6,
     "metadata": {},
     "output_type": "execute_result"
    }
   ],
   "source": [
    "data.isnull().sum()"
   ]
  },
  {
   "cell_type": "code",
   "execution_count": 7,
   "metadata": {},
   "outputs": [],
   "source": [
    "data.drop_duplicates(inplace = True)"
   ]
  },
  {
   "cell_type": "code",
   "execution_count": 8,
   "metadata": {},
   "outputs": [],
   "source": [
    "X = data.iloc[:, [2, 3]].values"
   ]
  },
  {
   "cell_type": "code",
   "execution_count": 9,
   "metadata": {},
   "outputs": [],
   "source": [
    "X_train, X_test = train_test_split(X, test_size = 0.33, random_state = 42)"
   ]
  },
  {
   "cell_type": "code",
   "execution_count": 10,
   "metadata": {},
   "outputs": [],
   "source": [
    "number_clusters = [i for i in range(1, 11)]\n",
    "WCVs = []\n",
    "for k in number_clusters:\n",
    "    mdl = KMeansCluster(number_clusters = k)\n",
    "    wcv = mdl.fit(X_train, random_state = 42, maxiter = 1000)\n",
    "    WCVs.append(wcv)"
   ]
  },
  {
   "cell_type": "code",
   "execution_count": 11,
   "metadata": {},
   "outputs": [
    {
     "data": {
      "image/png": "[encoded data removed]",
      "text/plain": [
       "<Figure size 864x360 with 1 Axes>"
      ]
     },
     "metadata": {
      "needs_background": "light"
     },
     "output_type": "display_data"
    }
   ],
   "source": [
    "fig, ax = plt.subplots(figsize = (12, 5))\n",
    "ax.plot(number_clusters, WCVs, marker = 'o', color = 'red')\n",
    "_ = ax.set(xticks = number_clusters)"
   ]
  },
  {
   "cell_type": "markdown",
   "metadata": {},
   "source": [
    "## Từ biểu đồ trên, ta chọn K = 4"
   ]
  },
  {
   "cell_type": "code",
   "execution_count": 12,
   "metadata": {
    "scrolled": false
   },
   "outputs": [],
   "source": [
    "mdl = KMeansCluster(number_clusters = 4)\n",
    "_ = mdl.fit(X_train, random_state = 42, maxiter = 1000)"
   ]
  },
  {
   "cell_type": "code",
   "execution_count": 13,
   "metadata": {},
   "outputs": [
    {
     "data": {
      "text/plain": [
       "array([[ 37.5       , 103.81818182],\n",
       "       [ 31.77272727,  71.70454545],\n",
       "       [ 29.25      ,  28.6875    ],\n",
       "       [ 56.46153846,  51.61538462]])"
      ]
     },
     "execution_count": 13,
     "metadata": {},
     "output_type": "execute_result"
    }
   ],
   "source": [
    "mdl.clusters"
   ]
  },
  {
   "cell_type": "code",
   "execution_count": 14,
   "metadata": {},
   "outputs": [],
   "source": [
    "label_train = mdl.predict(X_train)"
   ]
  },
  {
   "cell_type": "code",
   "execution_count": 15,
   "metadata": {},
   "outputs": [
    {
     "data": {
      "image/png": "[encoded data removed]",
      "text/plain": [
       "<Figure size 864x576 with 1 Axes>"
      ]
     },
     "metadata": {
      "needs_background": "light"
     },
     "output_type": "display_data"
    }
   ],
   "source": [
    "# Draw clusters for training dataset\n",
    "fig, ax = plt.subplots(figsize = (12, 8))\n",
    "color = ('red', 'blue', 'green', 'orange')\n",
    "for id_label in np.unique(label_train):\n",
    "    ax.scatter(\n",
    "        X_train[label_train == id_label][:, 0], X_train[label_train == id_label][:, 1], \n",
    "        c = color[id_label]\n",
    "    )\n",
    "    ax.scatter(\n",
    "        mdl.clusters[id_label][0], mdl.clusters[id_label][1],\n",
    "        marker = f'Cluster ${id_label + 1}$',\n",
    "        c = color[id_label], s = 5000\n",
    "    )"
   ]
  },
  {
   "cell_type": "markdown",
   "metadata": {},
   "source": [
    "## 2. Vẽ hình các cụm trên tập testing"
   ]
  },
  {
   "cell_type": "code",
   "execution_count": 16,
   "metadata": {},
   "outputs": [],
   "source": [
    "label_test = mdl.predict(X_test)"
   ]
  },
  {
   "cell_type": "code",
   "execution_count": 17,
   "metadata": {
    "scrolled": false
   },
   "outputs": [
    {
     "data": {
      "image/png": "[encoded data removed]",
      "text/plain": [
       "<Figure size 864x576 with 1 Axes>"
      ]
     },
     "metadata": {
      "needs_background": "light"
     },
     "output_type": "display_data"
    }
   ],
   "source": [
    "# Draw clusters for testing dataset\n",
    "fig, ax = plt.subplots(figsize = (12, 8))\n",
    "color = ('red', 'blue', 'green', 'orange')\n",
    "for id_label in np.unique(label_test):\n",
    "    ax.scatter(\n",
    "        X_test[label_test == id_label][:, 0], X_test[label_test == id_label][:, 1], \n",
    "        c = color[id_label]\n",
    "    )\n",
    "    ax.scatter(\n",
    "        mdl.clusters[id_label][0], mdl.clusters[id_label][1],\n",
    "        marker = f'Cluster ${id_label + 1}$',\n",
    "        c = color[id_label], s = 5000\n",
    "    )"
   ]
  }
 ],
 "metadata": {
  "kernelspec": {
   "display_name": "base",
   "language": "python",
   "name": "base"
  },
  "language_info": {
   "codemirror_mode": {
    "name": "ipython",
    "version": 3
   },
   "file_extension": ".py",
   "mimetype": "text/x-python",
   "name": "python",
   "nbconvert_exporter": "python",
   "pygments_lexer": "ipython3",
   "version": "3.8.5"
  }
 },
 "nbformat": 4,
 "nbformat_minor": 4
}
